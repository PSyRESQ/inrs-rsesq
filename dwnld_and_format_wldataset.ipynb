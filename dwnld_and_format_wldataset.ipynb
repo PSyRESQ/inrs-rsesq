{
 "cells": [
  {
   "cell_type": "code",
   "execution_count": 1,
   "metadata": {
    "collapsed": true,
    "scrolled": true
   },
   "outputs": [],
   "source": [
    "from read_mddelcc_rses import MDDELCC_RSESQ_Reader\n",
    "import os"
   ]
  },
  {
   "cell_type": "code",
   "execution_count": 2,
   "metadata": {
    "collapsed": true
   },
   "outputs": [],
   "source": [
    "dirname = os.path.join(os.getcwd(), 'data_files', 'water_level')\n",
    "if not os.path.exists(dirname):\n",
    "    os.makedirs(dirname)"
   ]
  },
  {
   "cell_type": "code",
   "execution_count": 3,
   "metadata": {},
   "outputs": [],
   "source": [
    "reader = MDDELCC_RSESQ_Reader()\n",
    "for station in reader.stations():\n",
    "    filename = \"%s (%s).csv\" % (station['Name'], station['ID'])\n",
    "    filepath = os.path.join(dirname, filename)\n",
    "    if not os.path.exists(filepath):\n",
    "        reader.save_station_to_csv(station['ID'], filepath)"
   ]
  }
 ],
 "metadata": {
  "kernelspec": {
   "display_name": "Python 3 (Spyder)",
   "language": "python3",
   "name": "python3"
  },
  "language_info": {
   "codemirror_mode": {
    "name": "ipython",
    "version": 3
   },
   "file_extension": ".py",
   "mimetype": "text/x-python",
   "name": "python",
   "nbconvert_exporter": "python",
   "pygments_lexer": "ipython3",
   "version": "3.6.2"
  }
 },
 "nbformat": 4,
 "nbformat_minor": 2
}
