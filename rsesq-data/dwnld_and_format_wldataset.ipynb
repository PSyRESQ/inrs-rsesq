{
 "cells": [
  {
   "cell_type": "markdown",
   "metadata": {},
   "source": [
    "# Télécharger les données de niveau d'eau souterraine du MDDELCC\n",
    "http://www.mddelcc.gouv.qc.ca/eau/piezo/"
   ]
  },
  {
   "cell_type": "code",
   "execution_count": 3,
   "metadata": {},
   "outputs": [
    {
     "name": "stdout",
     "output_type": "stream",
     "text": [
      "Saving data for station 04740001: 257 of 257                                                 "
     ]
    }
   ],
   "source": [
    "import os\n",
    "from readers import MDDELCC_RSESQ_Reader\n",
    "\n",
    "dirname = os.path.join(os.getcwd(), 'data_files', 'water_level')\n",
    "\n",
    "reader = MDDELCC_RSESQ_Reader()\n",
    "for i, stn in enumerate(reader.stations()):\n",
    "    args = (stn['ID'], i+1, len(reader.stations()))\n",
    "    print('\\rSaving data for station %s: %d of %d' % args, end=\"     \")\n",
    "    \n",
    "    filepath = os.path.join(dirname, \"%s (%s).csv\" % (stn['Name'], stn['ID']))\n",
    "    reader.save_station_to_csv(stn['ID'], filepath)"
   ]
  }
 ],
 "metadata": {
  "kernelspec": {
   "display_name": "Python 3 (Spyder)",
   "language": "python3",
   "name": "python3"
  }
 },
 "nbformat": 4,
 "nbformat_minor": 2
}
