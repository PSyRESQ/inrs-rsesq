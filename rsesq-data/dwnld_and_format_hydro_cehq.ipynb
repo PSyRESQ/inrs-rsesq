{
 "cells": [
  {
   "cell_type": "markdown",
   "metadata": {},
   "source": [
    "# Télécharger les données hydrométriques du CEHQ\n",
    "https://www.cehq.gouv.qc.ca/hydrometrie/historique_donnees/default.asp"
   ]
  },
  {
   "cell_type": "code",
   "execution_count": 2,
   "metadata": {},
   "outputs": [],
   "source": [
    "import os\n",
    "from numpy import min, max\n",
    "from read_mddelcc_cehq import MDDELCC_CEHQ_Reader\n",
    "\n",
    "dirname = os.path.join(os.getcwd(), 'data_files', 'streamflow_and_level')\n",
    "\n",
    "reader = MDDELCC_CEHQ_Reader()\n",
    "for i, sid in enumerate(reader.station_ids()):\n",
    "    # Fetch data for each station from the CEHQ website.\n",
    "    data = reader.fetch_station_data(sid)\n",
    "    # Save the data in a csv file.\n",
    "    filename = \"%s_%d-%d.csv\" % (sid, min(data['Year']), max(data['Year']))\n",
    "    filepath = os.path.join(dirname, filename)\n",
    "    reader.save_station_to_csv(sid, filepath)"
   ]
  }
 ],
 "metadata": {
  "kernelspec": {
   "display_name": "Python 3 (Spyder)",
   "language": "python3",
   "name": "python3"
  },
  "language_info": {
   "codemirror_mode": {
    "name": "ipython",
    "version": 3
   },
   "file_extension": ".py",
   "mimetype": "text/x-python",
   "name": "python",
   "nbconvert_exporter": "python",
   "pygments_lexer": "ipython3",
   "version": "3.6.2"
  }
 },
 "nbformat": 4,
 "nbformat_minor": 2
}
