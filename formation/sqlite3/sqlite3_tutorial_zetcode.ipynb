{
 "cells": [
  {
   "cell_type": "markdown",
   "metadata": {},
   "source": [
    "# Prerequisites"
   ]
  },
  {
   "cell_type": "code",
   "execution_count": 1,
   "metadata": {
    "collapsed": true
   },
   "outputs": [],
   "source": [
    "# http://zetcode.com/db/sqlitepythontutorial/\n",
    "\n",
    "import sqlite3 as lite\n",
    "import sys"
   ]
  },
  {
   "cell_type": "markdown",
   "metadata": {},
   "source": [
    "# Version"
   ]
  },
  {
   "cell_type": "code",
   "execution_count": 2,
   "metadata": {},
   "outputs": [
    {
     "name": "stdout",
     "output_type": "stream",
     "text": [
      "SQLite version: 3.14.2\n"
     ]
    }
   ],
   "source": [
    "with lite.connect('test.db') as con:\n",
    "    cur = con.cursor()    \n",
    "    cur.execute('SELECT SQLITE_VERSION()')\n",
    "    \n",
    "    data = cur.fetchone()\n",
    "    \n",
    "    print(\"SQLite version: %s\" % data)"
   ]
  },
  {
   "cell_type": "markdown",
   "metadata": {},
   "source": [
    "# Inserting data"
   ]
  },
  {
   "cell_type": "code",
   "execution_count": 3,
   "metadata": {
    "collapsed": true
   },
   "outputs": [],
   "source": [
    "cars = ((1, 'Audi', 52642),\n",
    "        (2, 'Mercedes', 57127),\n",
    "        (3, 'Skoda', 9000),\n",
    "        (4, 'Volvo', 29000),\n",
    "        (5, 'Bentley', 350000),\n",
    "        (6, 'Hummer', 41400),\n",
    "        (7, 'Volkswagen', 21600))\n",
    "\n",
    "with lite.connect('test.db') as con:\n",
    "    cur = con.cursor()\n",
    "    cur.execute(\"DROP TABLE IF EXISTS Cars\")\n",
    "    cur.execute(\"CREATE TABLE Cars(Id INT, Name TEXT, Price INT)\")\n",
    "    cur.executemany(\"INSERT INTO Cars VALUES(?, ?, ?)\", cars)   "
   ]
  },
  {
   "cell_type": "markdown",
   "metadata": {},
   "source": [
    "# The last inserted row id"
   ]
  },
  {
   "cell_type": "code",
   "execution_count": 4,
   "metadata": {},
   "outputs": [
    {
     "name": "stdout",
     "output_type": "stream",
     "text": [
      "The last Id of the inserted row is 4\n"
     ]
    }
   ],
   "source": [
    "with lite.connect(':memory:') as con:\n",
    "    cur = con.cursor()    \n",
    "    cur.execute(\"CREATE TABLE Friends(Id INTEGER PRIMARY KEY, Name TEXT);\")\n",
    "    cur.execute(\"INSERT INTO Friends(Name) VALUES ('Tom');\")\n",
    "    cur.execute(\"INSERT INTO Friends(Name) VALUES ('Rebecca');\")\n",
    "    cur.execute(\"INSERT INTO Friends(Name) VALUES ('Jim');\")\n",
    "    cur.execute(\"INSERT INTO Friends(Name) VALUES ('Robert');\")\n",
    "    \n",
    "    lid = cur.lastrowid\n",
    "    print(\"The last Id of the inserted row is %d\" % lid)"
   ]
  },
  {
   "cell_type": "markdown",
   "metadata": {},
   "source": [
    "# Retrieving data"
   ]
  },
  {
   "cell_type": "code",
   "execution_count": 5,
   "metadata": {},
   "outputs": [
    {
     "name": "stdout",
     "output_type": "stream",
     "text": [
      "(1, 'Audi', 52642)\n",
      "(2, 'Mercedes', 57127)\n",
      "(3, 'Skoda', 9000)\n",
      "(4, 'Volvo', 29000)\n",
      "(5, 'Bentley', 350000)\n",
      "(6, 'Hummer', 41400)\n",
      "(7, 'Volkswagen', 21600)\n"
     ]
    }
   ],
   "source": [
    "with lite.connect('test.db') as con:\n",
    "    cur = con.cursor()\n",
    "    cur.execute(\"SELECT * FROM Cars\")\n",
    "    for row in cur.fetchall():\n",
    "        print(row)"
   ]
  },
  {
   "cell_type": "markdown",
   "metadata": {},
   "source": [
    "# The dictionary cursor"
   ]
  },
  {
   "cell_type": "code",
   "execution_count": 6,
   "metadata": {},
   "outputs": [
    {
     "name": "stdout",
     "output_type": "stream",
     "text": [
      "1 Audi 52642\n",
      "2 Mercedes 57127\n",
      "3 Skoda 9000\n",
      "4 Volvo 29000\n",
      "5 Bentley 350000\n",
      "6 Hummer 41400\n",
      "7 Volkswagen 21600\n"
     ]
    }
   ],
   "source": [
    "with lite.connect('test.db') as con:\n",
    "    con.row_factory = lite.Row\n",
    "    \n",
    "    cur = con.cursor()\n",
    "    cur.execute(\"SELECT * FROM Cars\")\n",
    "    \n",
    "    for row in cur.fetchall():\n",
    "        print(\"%s %s %s\" % (row[\"Id\"], row[\"Name\"], row[\"Price\"]))"
   ]
  },
  {
   "cell_type": "markdown",
   "metadata": {},
   "source": [
    "# Parameterized queries"
   ]
  },
  {
   "cell_type": "code",
   "execution_count": 7,
   "metadata": {},
   "outputs": [
    {
     "name": "stdout",
     "output_type": "stream",
     "text": [
      "Number of rows updated: 1\n",
      "Audi 62300\n"
     ]
    }
   ],
   "source": [
    "with lite.connect('test.db') as con:\n",
    "    cur = con.cursor()\n",
    "    cur.execute(\"UPDATE Cars SET Price=? WHERE Id=?\", (62300, 1))\n",
    "    con.commit()\n",
    "    \n",
    "    print(\"Number of rows updated: %d\" % cur.rowcount)\n",
    "    \n",
    "    cur.execute(\"SELECT Name, Price FROM Cars WHERE Id=:Id\", {\"Id\": 1})\n",
    "    con.commit()\n",
    "    \n",
    "    row = cur.fetchone()\n",
    "    print(row[0], row[1])\n"
   ]
  },
  {
   "cell_type": "markdown",
   "metadata": {},
   "source": [
    "# Metadata"
   ]
  },
  {
   "cell_type": "code",
   "execution_count": 8,
   "metadata": {},
   "outputs": [
    {
     "name": "stdout",
     "output_type": "stream",
     "text": [
      "0 Id INT\n",
      "1 Name TEXT\n",
      "2 Price INT\n",
      "\n",
      "Cars\n"
     ]
    }
   ],
   "source": [
    "with lite.connect('test.db') as con:\n",
    "    cur = con.cursor()\n",
    "    \n",
    "    # The PRAGMA table_info(tableName) command returns one row \n",
    "    # for each column in the Cars table. \n",
    "    \n",
    "    cur.execute('PRAGMA table_info(Cars)')\n",
    "    data = cur.fetchall()\n",
    "    for d in data:\n",
    "        print(d[0], d[1], d[2])\n",
    "        \n",
    "    # We list all tables in the test.db database.\n",
    "    \n",
    "    cur.execute(\"SELECT name FROM sqlite_master WHERE type='table'\")\n",
    "    rows = cur.fetchall()\n",
    "    print()\n",
    "    for row in rows:\n",
    "        print(row[0])"
   ]
  },
  {
   "cell_type": "markdown",
   "metadata": {
    "collapsed": true
   },
   "source": [
    "# Export and import of data\n",
    "\n",
    "## Export data"
   ]
  },
  {
   "cell_type": "code",
   "execution_count": 11,
   "metadata": {
    "collapsed": true
   },
   "outputs": [],
   "source": [
    "cars = ((1, 'Audi', 52643),\n",
    "        (2, 'Mercedes', 57642),\n",
    "        (3, 'Skoda', 9000),\n",
    "        (4, 'Volvo', 29000),\n",
    "        (5, 'Bentley', 350000),\n",
    "        (6, 'Hummer', 41400),\n",
    "        (7, 'Volkswagen', 21600))\n",
    "\n",
    "with lite.connect(':memory:') as con:\n",
    "    cur = con.cursor()\n",
    "    \n",
    "    cur.execute(\"DROP TABLE IF EXISTS Cars\")\n",
    "    cur.execute(\"CREATE TABLE Cars(Id INT, Name TEXT, Price INT)\")\n",
    "    cur.executemany(\"INSERT INTO Cars VALUES(?, ?, ?)\", cars)\n",
    "    cur.execute(\"DELETE FROM Cars WHERE Price < 30000\")\n",
    "    \n",
    "    data = '\\n'.join(con.iterdump())\n",
    "    \n",
    "    with open('car.sql', 'w') as f:\n",
    "        f.write(data)\n",
    "    \n",
    "    "
   ]
  },
  {
   "cell_type": "markdown",
   "metadata": {},
   "source": [
    "## Import data"
   ]
  },
  {
   "cell_type": "code",
   "execution_count": 13,
   "metadata": {},
   "outputs": [
    {
     "name": "stdout",
     "output_type": "stream",
     "text": [
      "(1, 'Audi', 52643)\n",
      "(2, 'Mercedes', 57642)\n",
      "(5, 'Bentley', 350000)\n",
      "(6, 'Hummer', 41400)\n"
     ]
    }
   ],
   "source": [
    "# Dumped table back into memory.\n",
    "\n",
    "with lite.connect(':memory:') as con:\n",
    "    cur = con.cursor()\n",
    "    \n",
    "    with open('car.sql', 'r') as f:\n",
    "        sql = f.read()\n",
    "        cur.executescript(sql)\n",
    "        \n",
    "    cur.execute(\"SELECT * FROM Cars\")\n",
    "    rows = cur.fetchall()\n",
    "    for row in rows:\n",
    "        print(row)\n",
    "    \n",
    "    "
   ]
  }
 ],
 "metadata": {
  "kernelspec": {
   "display_name": "Python 3 (Spyder)",
   "language": "python3",
   "name": "python3"
  },
  "language_info": {
   "codemirror_mode": {
    "name": "ipython",
    "version": 3
   },
   "file_extension": ".py",
   "mimetype": "text/x-python",
   "name": "python",
   "nbconvert_exporter": "python",
   "pygments_lexer": "ipython3",
   "version": "3.6.2"
  }
 },
 "nbformat": 4,
 "nbformat_minor": 2
}
