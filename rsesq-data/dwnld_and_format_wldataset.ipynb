{
 "cells": [
  {
   "cell_type": "markdown",
   "metadata": {},
   "source": [
    "# Télécharger les données de niveau d'eau souterraine du MDDELCC\n",
    "http://www.mddelcc.gouv.qc.ca/eau/piezo/"
   ]
  },
  {
   "cell_type": "code",
   "execution_count": 4,
   "metadata": {},
   "outputs": [
    {
     "name": "stdout",
     "output_type": "stream",
     "text": [
      "Saving data for station 04740001: 257 of 257     \r"
     ]
    }
   ],
   "source": [
    "import os\n",
    "from readers import MDDELCC_RSESQ_Reader\n",
    "\n",
    "dirname = os.path.join(os.getcwd(), 'data_files', 'water_level')\n",
    "\n",
    "reader = MDDELCC_RSESQ_Reader()\n",
    "for i, station in enumerate(reader.stations()):\n",
    "    args = (station['ID'], i+1, len(reader.stations()), ' '*5)\n",
    "    print('Saving data for station %s: %d of %d%s' % args, end='\\r')\n",
    "    \n",
    "    filename = \"%s (%s).csv\" % (station['Name'], station['ID'])\n",
    "    filepath = os.path.join(dirname, filename)\n",
    "    reader.save_station_to_csv(station['ID'], filepath)"
   ]
  }
 ],
 "metadata": {
  "kernelspec": {
   "display_name": "Python 3 (Spyder)",
   "language": "python3",
   "name": "python3"
  },
  "language_info": {
   "codemirror_mode": {
    "name": "ipython",
    "version": 3
   },
   "file_extension": ".py",
   "mimetype": "text/x-python",
   "name": "python",
   "nbconvert_exporter": "python",
   "pygments_lexer": "ipython3",
   "version": "3.6.2"
  }
 },
 "nbformat": 4,
 "nbformat_minor": 2
}
