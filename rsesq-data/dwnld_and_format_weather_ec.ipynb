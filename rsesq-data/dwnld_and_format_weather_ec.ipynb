{
 "cells": [
  {
   "cell_type": "markdown",
   "metadata": {},
   "source": [
    "# Télécharger les données climatique d'Environnement Canada\n",
    "http://climate.weather.gc.ca/historical_data/search_historic_data_e.html"
   ]
  },
  {
   "cell_type": "code",
   "execution_count": 2,
   "metadata": {
    "collapsed": true
   },
   "outputs": [],
   "source": [
    "import os\n",
    "from readers import EC_Climate_Reader\n",
    "from IPython.display import clear_output\n",
    "\n",
    "dirname = os.path.join(os.getcwd(), 'data_files', 'climate')\n",
    "\n",
    "reader = EC_Climate_Reader()\n",
    "reader.raw_data_dir = os.path.join(dirname, 'raw_datafiles')\n",
    "stationlist = reader.stations(active=True, prov='QC')\n",
    "for i, stn in enumerate(stationlist):\n",
    "    args = (stn['ID'], i+1, len(stationlist))\n",
    "    print('Saving data for station %s: %d of %d' % args)\n",
    "    \n",
    "    filepath = os.path.join(dirname, \"%s (%s).csv\" % (stn['Name'], stn['ID']))\n",
    "    reader.save_station_to_csv(stn['ID'], filepath)\n",
    "    clear_output()"
   ]
  }
 ],
 "metadata": {
  "kernelspec": {
   "display_name": "Python 3 (Spyder)",
   "language": "python3",
   "name": "python3"
  },
  "language_info": {
   "codemirror_mode": {
    "name": "ipython",
    "version": 3
   },
   "file_extension": ".py",
   "mimetype": "text/x-python",
   "name": "python",
   "nbconvert_exporter": "python",
   "pygments_lexer": "ipython3",
   "version": "3.6.2"
  }
 },
 "nbformat": 4,
 "nbformat_minor": 2
}
