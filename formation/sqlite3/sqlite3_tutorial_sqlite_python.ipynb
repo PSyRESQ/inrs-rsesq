{
 "cells": [
  {
   "cell_type": "code",
   "execution_count": 2,
   "metadata": {
    "collapsed": true
   },
   "outputs": [],
   "source": [
    "# https://www.tutorialspoint.com/sqlite/sqlite_python.htm\n",
    "import sqlite3 as sql3"
   ]
  },
  {
   "cell_type": "markdown",
   "metadata": {},
   "source": [
    "# Create a Table"
   ]
  },
  {
   "cell_type": "code",
   "execution_count": 3,
   "metadata": {
    "collapsed": true
   },
   "outputs": [],
   "source": [
    "with sql3.connect('test.db') as conn:\n",
    "    conn.execute(\"DROP TABLE IF EXISTS COMPANY\")\n",
    "    conn.execute('''\n",
    "                 CREATE TABLE COMPANY\n",
    "                 (ID INT PRIMARY KEY NOT NULL,\n",
    "                  NAME TEXT NOT NULL, \n",
    "                  AGE INT NOT NULL,\n",
    "                  ADDRESS CHAR(50), \n",
    "                  SALARY REAL);\n",
    "                  ''')\n",
    "    "
   ]
  },
  {
   "cell_type": "markdown",
   "metadata": {},
   "source": [
    "# INSERT Operation"
   ]
  },
  {
   "cell_type": "code",
   "execution_count": 4,
   "metadata": {
    "collapsed": true
   },
   "outputs": [],
   "source": [
    "with sql3.connect('test.db') as conn:\n",
    "    conn.execute(\"INSERT INTO COMPANY (ID,NAME,AGE,ADDRESS,SALARY)\"\n",
    "                 \"VALUES (1, 'Paul', 32, 'California', 20000.00 )\")\n",
    "\n",
    "    conn.execute(\"INSERT INTO COMPANY (ID,NAME,AGE,ADDRESS,SALARY)\"\n",
    "                 \"VALUES (2, 'Allen', 25, 'Texas', 15000.00 )\")\n",
    "\n",
    "    conn.execute(\"INSERT INTO COMPANY (ID,NAME,AGE,ADDRESS,SALARY)\"\n",
    "                 \"VALUES (3, 'Teddy', 23, 'Norway', 20000.00 )\")\n",
    "\n",
    "    conn.execute(\"INSERT INTO COMPANY (ID,NAME,AGE,ADDRESS,SALARY)\"\n",
    "                 \"VALUES (4, 'Mark', 25, 'Rich-Mond ', 65000.00 )\")\n"
   ]
  },
  {
   "cell_type": "markdown",
   "metadata": {},
   "source": [
    "# SELECT Operation"
   ]
  },
  {
   "cell_type": "code",
   "execution_count": 6,
   "metadata": {},
   "outputs": [
    {
     "name": "stdout",
     "output_type": "stream",
     "text": [
      "ID =  1\n",
      "NAME =  Paul\n",
      "ADDRESS =  California\n",
      "SALARY =  20000.0 \n",
      "\n",
      "ID =  2\n",
      "NAME =  Allen\n",
      "ADDRESS =  Texas\n",
      "SALARY =  15000.0 \n",
      "\n",
      "ID =  3\n",
      "NAME =  Teddy\n",
      "ADDRESS =  Norway\n",
      "SALARY =  20000.0 \n",
      "\n",
      "ID =  4\n",
      "NAME =  Mark\n",
      "ADDRESS =  Rich-Mond \n",
      "SALARY =  65000.0 \n",
      "\n"
     ]
    }
   ],
   "source": [
    "with sql3.connect('test.db') as conn:\n",
    "    cur = conn.execute(\"SELECT id, name, address, salary from COMPANY\")\n",
    "    for row in cur:\n",
    "       print(\"ID = \", row[0])\n",
    "       print(\"NAME = \", row[1])\n",
    "       print(\"ADDRESS = \", row[2])\n",
    "       print(\"SALARY = \", row[3], \"\\n\")\n",
    "    \n",
    "    "
   ]
  },
  {
   "cell_type": "markdown",
   "metadata": {},
   "source": [
    "# UPDATE Operation"
   ]
  },
  {
   "cell_type": "code",
   "execution_count": 10,
   "metadata": {},
   "outputs": [
    {
     "name": "stdout",
     "output_type": "stream",
     "text": [
      "ID =  1\n",
      "NAME =  Paul\n",
      "ADDRESS =  California\n",
      "SALARY =  25000.0 \n",
      "\n",
      "ID =  2\n",
      "NAME =  Allen\n",
      "ADDRESS =  Texas\n",
      "SALARY =  15000.0 \n",
      "\n",
      "ID =  3\n",
      "NAME =  Teddy\n",
      "ADDRESS =  Norway\n",
      "SALARY =  20000.0 \n",
      "\n",
      "ID =  4\n",
      "NAME =  Mark\n",
      "ADDRESS =  Rich-Mond \n",
      "SALARY =  65000.0 \n",
      "\n"
     ]
    }
   ],
   "source": [
    "with sql3.connect('test.db') as conn:\n",
    "    conn.execute(\"UPDATE COMPANY set SALARY = 25000.00 where ID = 1\")\n",
    "    conn.commit\n",
    "    \n",
    "    cursor = conn.execute(\"SELECT id, name, address, salary from COMPANY\")\n",
    "    for row in cursor:\n",
    "       print(\"ID = \", row[0])\n",
    "       print(\"NAME = \", row[1])\n",
    "       print(\"ADDRESS = \", row[2])\n",
    "       print(\"SALARY = \", row[3], \"\\n\")\n"
   ]
  },
  {
   "cell_type": "markdown",
   "metadata": {},
   "source": [
    "# DELETE Operation"
   ]
  },
  {
   "cell_type": "code",
   "execution_count": 11,
   "metadata": {},
   "outputs": [
    {
     "name": "stdout",
     "output_type": "stream",
     "text": [
      "ID =  1\n",
      "NAME =  Paul\n",
      "ADDRESS =  California\n",
      "SALARY =  25000.0 \n",
      "\n",
      "ID =  3\n",
      "NAME =  Teddy\n",
      "ADDRESS =  Norway\n",
      "SALARY =  20000.0 \n",
      "\n",
      "ID =  4\n",
      "NAME =  Mark\n",
      "ADDRESS =  Rich-Mond \n",
      "SALARY =  65000.0 \n",
      "\n"
     ]
    }
   ],
   "source": [
    "with sql3.connect('test.db') as conn:\n",
    "    conn.execute(\"DELETE from COMPANY where ID = 2;\")\n",
    "    conn.commit()\n",
    "    \n",
    "    cursor = conn.execute(\"SELECT id, name, address, salary from COMPANY\")\n",
    "    for row in cursor:\n",
    "       print(\"ID = \", row[0])\n",
    "       print(\"NAME = \", row[1])\n",
    "       print(\"ADDRESS = \", row[2])\n",
    "       print(\"SALARY = \", row[3], \"\\n\")"
   ]
  }
 ],
 "metadata": {
  "kernelspec": {
   "display_name": "Python 3 (Spyder)",
   "language": "python3",
   "name": "python3"
  },
  "language_info": {
   "codemirror_mode": {
    "name": "ipython",
    "version": 3
   },
   "file_extension": ".py",
   "mimetype": "text/x-python",
   "name": "python",
   "nbconvert_exporter": "python",
   "pygments_lexer": "ipython3",
   "version": "3.6.2"
  }
 },
 "nbformat": 4,
 "nbformat_minor": 2
}
