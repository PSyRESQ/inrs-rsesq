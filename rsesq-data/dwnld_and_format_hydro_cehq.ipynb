{
 "cells": [
  {
   "cell_type": "markdown",
   "metadata": {},
   "source": [
    "# Télécharger les données hydrométriques du CEHQ\n",
    "https://www.cehq.gouv.qc.ca/hydrometrie/historique_donnees/default.asp"
   ]
  },
  {
   "cell_type": "code",
   "execution_count": 2,
   "metadata": {},
   "outputs": [
    {
     "name": "stdout",
     "output_type": "stream",
     "text": [
      "Saving data for station 120201: 225 of 225                             "
     ]
    }
   ],
   "source": [
    "import os\n",
    "from readers import MDDELCC_CEHQ_Reader\n",
    "\n",
    "dirname = os.path.join(os.getcwd(), 'data_files', 'streamflow_and_level')\n",
    "\n",
    "reader = MDDELCC_CEHQ_Reader()\n",
    "for i, stn in enumerate(reader.stations(active=True)):\n",
    "    args = (stn['ID'], i+1, len(reader.stations(active=True)))\n",
    "    print('\\rSaving data for station %s: %d of %d' % args, end=\"     \")\n",
    "    \n",
    "    filepath = os.path.join(dirname, \"%s (%s).csv\" % (stn['Name'], stn['ID']))\n",
    "    reader.save_station_to_csv(stn['ID'], filepath)"
   ]
  }
 ],
 "metadata": {
  "kernelspec": {
   "display_name": "Python 3 (Spyder)",
   "language": "python3",
   "name": "python3"
  },
  "language_info": {
   "codemirror_mode": {
    "name": "ipython",
    "version": 3
   },
   "file_extension": ".py",
   "mimetype": "text/x-python",
   "name": "python",
   "nbconvert_exporter": "python",
   "pygments_lexer": "ipython3",
   "version": "3.6.2"
  }
 },
 "nbformat": 4,
 "nbformat_minor": 2
}
